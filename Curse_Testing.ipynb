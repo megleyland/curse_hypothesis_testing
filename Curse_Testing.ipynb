{
 "cells": [
  {
   "cell_type": "markdown",
   "metadata": {},
   "source": [
    "# Scraping Wikipedia to prove ~~or disprove~~ A CURSE"
   ]
  },
  {
   "cell_type": "markdown",
   "metadata": {},
   "source": [
    "In this notebook, I'm going to have a go at scraping a Wikipedia table, then cross-referencing it with other Wikipedia articles to get a richer dataset, and then doing some summaries to compare to national statistics.\n",
    "\n",
    "The \"Strictly Curse\" comes up in discussion every Winter, when celebrity contestants on Strictly Come Dancing are always rumoured to be having affairs with their professional partners & then leaving their spouses. I thought it'd be interesting to see if, statistically, there's anything to it."
   ]
  },
  {
   "cell_type": "markdown",
   "metadata": {},
   "source": [
    "## Section 1: Get everything I can from the main table"
   ]
  },
  {
   "cell_type": "markdown",
   "metadata": {},
   "source": [
    "en.wikipedia.org/wiki/List_of_Strictly_Come_Dancing_contestants has a list of everyone who's competed on Strictly since it started in 2004. I'm going to use that to get the main list of contestants, then have a look into their own wiki pages (later on) to pull out their marital status(es)."
   ]
  },
  {
   "cell_type": "code",
   "execution_count": 1,
   "metadata": {},
   "outputs": [],
   "source": [
    "# Import the relevant packages\n",
    "\n",
    "import requests\n",
    "from bs4 import BeautifulSoup\n",
    "import pandas as pd\n",
    "import numpy as np\n",
    "import math"
   ]
  },
  {
   "cell_type": "markdown",
   "metadata": {},
   "source": [
    "Getting the SCD UK data:"
   ]
  },
  {
   "cell_type": "code",
   "execution_count": 2,
   "metadata": {},
   "outputs": [],
   "source": [
    "# Get the page, then soupify it.\n",
    "page_url = \"https://en.wikipedia.org/wiki/List_of_Strictly_Come_Dancing_contestants\"\n",
    "page = requests.get(page_url)\n",
    "soup = BeautifulSoup(page.content,'html.parser')\n",
    "\n",
    "# Find the right table\n",
    "main_table = soup.find(class_=\"wikitable sortable\")\n",
    "\n",
    "# Get the contestants from that table\n",
    "con_info = main_table.find_all('tr')\n",
    "\n",
    "# Count the contestants\n",
    "num = len(list(con_info))\n",
    "\n",
    "# Set up empty arrays for the fields we need\n",
    "#   (literally just the name and the series, so we can \n",
    "#    work out the year they competed.)\n",
    "con_names=[]\n",
    "con_series=[]\n",
    "\n",
    "# Populate the info fields using the \"td\" tags\n",
    "for i in range(1,num):\n",
    "    con_names.append(con_info[i].find_all(\"td\")[0].get_text().rstrip('\\n'))\n",
    "    con_series.append(con_info[i].find_all(\"td\")[4].get_text().rstrip('\\n'))\n",
    "    \n",
    "# Combine all those lists into a table\n",
    "allinfo = {'Name':con_names,\n",
    "          'Series':con_series}\n",
    "\n",
    "# Put that table into a dataframe\n",
    "df = pd.DataFrame(allinfo)\n",
    "\n",
    "# Make a copy in case I need to go back and see what it originally was\n",
    "df_Original = df.copy()\n",
    "\n",
    "# Convert to the right datatypes\n",
    "df = df.astype({'Series':'int32'})\n",
    "\n",
    "# Add a \"year of competition\" column\n",
    "# This only works for the UK!\n",
    "df['Competing Year']= np.where(df['Series']==1,2004,df['Series']+2002)\n",
    "df = df.drop('Series',axis=1)"
   ]
  },
  {
   "cell_type": "markdown",
   "metadata": {},
   "source": [
    "Now getting some from the US! <br>\n",
    "<br><em> Note: I included some from the US, then decided that I didn't need more data, I needed a better initial estimator of the H0 mean. So I'm going to leave this step out, for now."
   ]
  },
  {
   "cell_type": "code",
   "execution_count": 3,
   "metadata": {
    "scrolled": true
   },
   "outputs": [],
   "source": [
    "page = requests.get(\"https://en.wikipedia.org/wiki/List_of_Dancing_with_the_Stars_(American_TV_series)_competitors\")\n",
    "soup = BeautifulSoup(page.content,'html.parser')\n",
    "\n",
    "table = soup.find(class_='wikitable sortable')\n",
    "table_rows = table.find_all('tr')\n",
    "num = len(table_rows)\n",
    "\n",
    "celeb_names=[]\n",
    "celeb_series=[]\n",
    "for i in range(1,num):\n",
    "    # Get the first entry in the row\n",
    "    first_entry = table_rows[i].find('td').get_text()\n",
    "    second_entry = table_rows[i].find_all('td')[1]\n",
    "    try:\n",
    "        # If it's a number, it's the series number\n",
    "        series_num = pd.to_numeric(first_entry)\n",
    "        celeb_series.append(series_num)\n",
    "        celeb_names.append(second_entry.get_text().rstrip('\\n'))\n",
    "    except:\n",
    "        # It might have a different series name\n",
    "        if first_entry.replace('\\n',\"\") == '15(All-Stars)':\n",
    "            series_num = 15\n",
    "            celeb_names.append(table_rows[i].find_all('td')[1].get_text().rstrip('\\n'))\n",
    "        else:\n",
    "            if first_entry.replace('\\n',\"\") == 'Juniors':\n",
    "                series_num = 100\n",
    "                celeb_names.append(table_rows[i].find_all('td')[1].get_text().rstrip('\\n'))\n",
    "            else:\n",
    "                celeb_names.append(table_rows[i].find('td').get_text().rstrip('\\n'))\n",
    "        \n",
    "        celeb_series.append(series_num)\n",
    "\n",
    "# Then put it in a dataframe\n",
    "\n",
    "US_info = {'Name':celeb_names, 'Series':celeb_series}\n",
    "\n",
    "dfUS = pd.DataFrame(data=US_info)\n",
    "dfUS=dfUS[dfUS['Series']!=100]\n",
    "\n",
    "# Set up a dictionary for the years\n",
    "series_years = {\n",
    "        1:2005,2:2006,3:2006,4:2007,5:2007,\n",
    "        6:2008,7:2008,8:2009,9:2009,10:2010,\n",
    "        11:2010,12:2011,13:2011,14:2012,15:2012,\n",
    "        16:2013,17:2013,18:2014,19:2014,20:2015,\n",
    "        21:2015,22:2016,23:2016,24:2017,25:2017,\n",
    "        26:2018,27:2018,28:2019}\n",
    "\n",
    "# and a function for looking it up\n",
    "def USYears(season):\n",
    "    return(season.get(series_years))\n",
    "\n",
    "dfUS['Competing Year']=dfUS['Series'].apply(lambda x:series_years.get(x))\n",
    "dfUS = dfUS[['Name','Competing Year']].astype({'Competing Year':'int32'})"
   ]
  },
  {
   "cell_type": "markdown",
   "metadata": {},
   "source": [
    "(If I wanted to use the US data, I'd:) <em>Join the two datasets together!"
   ]
  },
  {
   "cell_type": "code",
   "execution_count": 4,
   "metadata": {},
   "outputs": [],
   "source": [
    "#listBoth=[df,dfUS]\n",
    "#dfBoth = df.copy()"
   ]
  },
  {
   "cell_type": "markdown",
   "metadata": {},
   "source": [
    "## Section 2: Going to individuals' wiki pages to pull cross-info from them "
   ]
  },
  {
   "cell_type": "markdown",
   "metadata": {},
   "source": [
    "For this, I'm just going to wiki/persons_name, and all the info (as far as I can see) is in the info box down the right hand side. It tends to be there for most of the competitors, so I think there's little enough leakage that I won't go looking any harder for it right now!"
   ]
  },
  {
   "cell_type": "code",
   "execution_count": 5,
   "metadata": {},
   "outputs": [
    {
     "name": "stdout",
     "output_type": "stream",
     "text": [
      "(237, 2)\n"
     ]
    }
   ],
   "source": [
    "df2 = df.copy()\n",
    "df2 = df2.reset_index(drop=True)\n",
    "print(df2.shape)"
   ]
  },
  {
   "cell_type": "code",
   "execution_count": 6,
   "metadata": {},
   "outputs": [],
   "source": [
    "# A test function, to make sure everyone has a wiki page that I can get to\n",
    "def HasAWikiPage(name):\n",
    "    # First, get their wiki page up\n",
    "    spaces = name.replace(\" \",\"_\")\n",
    "    wiki_url = \"https://en.wikipedia.org/wiki/\" + spaces\n",
    "    # print(wiki_url)\n",
    "    page = requests.get(wiki_url)\n",
    "    \n",
    "    # If it can't find the page, don't do anything else\n",
    "    if page.status_code != 200:\n",
    "        return(0)\n",
    "    \n",
    "    return(1)"
   ]
  },
  {
   "cell_type": "code",
   "execution_count": 102,
   "metadata": {
    "scrolled": true
   },
   "outputs": [],
   "source": [
    "# A quick test shows that 99% of my contestants have at least a wiki page I can pull up - fab!\n",
    "\n",
    "df_Test=pd.DataFrame(df2['Name'],columns=[\"Name\"])\n",
    "#df_Test['WikiPage']=df_Test['Name'].apply(lambda x:HasAWikiPage(x))\n",
    "#df_Test.describe()\n",
    "\n",
    "# Although, hilariously, Alex Jones (that's the only one I've spotted, there may be more) is pulling up\n",
    "#   the far-right conspiracy theorist of the same name from the US. Not sure what to do about that one!"
   ]
  },
  {
   "cell_type": "code",
   "execution_count": 29,
   "metadata": {},
   "outputs": [],
   "source": [
    "def GetMarriageStatus_fromname(their_name):\n",
    "    wiki_url = \"https://en.wikipedia.org/wiki/\" + their_name.replace(\" \",\"_\")\n",
    "    page = requests.get(wiki_url)\n",
    "    \n",
    "    # If it can't find the page, don't do anything else\n",
    "    if page.status_code != 200:\n",
    "        return(0)\n",
    "    \n",
    "    # Find the \"Spouse(s)\" bit of their bio\n",
    "    soup = BeautifulSoup(page.content,'html.parser')\n",
    "    \n",
    "    try:\n",
    "        infobox = soup.find(class_=\"infobox biography vcard\")\n",
    "    except AttributeError:\n",
    "        return(0)\n",
    "    \n",
    "    #print(infobox.prettify())\n",
    "    \n",
    "    try:\n",
    "        infolines = infobox.find_all(\"tr\")\n",
    "    except AttributeError:\n",
    "        return(0)\n",
    "    \n",
    "    # Put the headings in as a list\n",
    "    stringrows=[]\n",
    "    for i in range(0,len(infolines)):\n",
    "        stringrows.append(infolines[i].get_text())\n",
    "        # Then if we have the \"Spouse\" row, return it\n",
    "        if \"Spouse(s)\" in stringrows[i]:\n",
    "            spousetext = stringrows[i].lstrip(\"Spouse(s)\")\n",
    "            return(spousetext)\n",
    "        if \"Spouse\" in stringrows[i]:\n",
    "            spousetext = stringrows[i].lstrip(\"Spouse(s)\")\n",
    "            return(spousetext)        \n",
    "    return(0)\n",
    "\n",
    "def GetMarriageStatus_fromindex(index):\n",
    "    # First, get their wiki page up\n",
    "    their_name = df2.iloc[index,0]\n",
    "    # print(their_name + \":\\n\") \n",
    "    return GetMarriageStatus_fromname(their_name)"
   ]
  },
  {
   "cell_type": "code",
   "execution_count": 30,
   "metadata": {},
   "outputs": [],
   "source": [
    "# Put the spouses info in the new table\n",
    "df2['Spouses String']=(df2.index.map(lambda x:GetMarriageStatus_fromindex(x)))"
   ]
  },
  {
   "cell_type": "markdown",
   "metadata": {},
   "source": [
    "## Section 3: Processing the data I already have now, to allow me to answer the question I wanted to"
   ]
  },
  {
   "cell_type": "code",
   "execution_count": 31,
   "metadata": {},
   "outputs": [
    {
     "data": {
      "text/html": [
       "<div>\n",
       "<style scoped>\n",
       "    .dataframe tbody tr th:only-of-type {\n",
       "        vertical-align: middle;\n",
       "    }\n",
       "\n",
       "    .dataframe tbody tr th {\n",
       "        vertical-align: top;\n",
       "    }\n",
       "\n",
       "    .dataframe thead th {\n",
       "        text-align: right;\n",
       "    }\n",
       "</style>\n",
       "<table border=\"1\" class=\"dataframe\">\n",
       "  <thead>\n",
       "    <tr style=\"text-align: right;\">\n",
       "      <th></th>\n",
       "      <th>Name</th>\n",
       "      <th>Competing Year</th>\n",
       "      <th>Spouses String</th>\n",
       "    </tr>\n",
       "  </thead>\n",
       "  <tbody>\n",
       "    <tr>\n",
       "      <th>88</th>\n",
       "      <td>Kate Silverton</td>\n",
       "      <td>2018</td>\n",
       "      <td>Mike Heron (m. 2010)</td>\n",
       "    </tr>\n",
       "    <tr>\n",
       "      <th>89</th>\n",
       "      <td>Catherine Tyldesley</td>\n",
       "      <td>2019</td>\n",
       "      <td>Tom Pitfield (m. 2016)</td>\n",
       "    </tr>\n",
       "    <tr>\n",
       "      <th>90</th>\n",
       "      <td>Mike Bushell</td>\n",
       "      <td>2019</td>\n",
       "      <td>Emily (m. 2019)</td>\n",
       "    </tr>\n",
       "    <tr>\n",
       "      <th>91</th>\n",
       "      <td>Michelle Visage</td>\n",
       "      <td>2019</td>\n",
       "      <td>David Case</td>\n",
       "    </tr>\n",
       "    <tr>\n",
       "      <th>92</th>\n",
       "      <td>Kelvin Fletcher</td>\n",
       "      <td>2019</td>\n",
       "      <td>Eliza Marsland (m. 2015)</td>\n",
       "    </tr>\n",
       "  </tbody>\n",
       "</table>\n",
       "</div>"
      ],
      "text/plain": [
       "                   Name  Competing Year            Spouses String\n",
       "88       Kate Silverton            2018      Mike Heron (m. 2010)\n",
       "89  Catherine Tyldesley            2019    Tom Pitfield (m. 2016)\n",
       "90         Mike Bushell            2019           Emily (m. 2019)\n",
       "91      Michelle Visage            2019                David Case\n",
       "92      Kelvin Fletcher            2019  Eliza Marsland (m. 2015)"
      ]
     },
     "execution_count": 31,
     "metadata": {},
     "output_type": "execute_result"
    }
   ],
   "source": [
    "# New dataframe with only the ones with marriage information\n",
    "df3 = df2[df2['Spouses String']!=0]\n",
    "df3 = df3.reset_index(drop=True)\n",
    "df3.tail(5)"
   ]
  },
  {
   "cell_type": "code",
   "execution_count": 53,
   "metadata": {},
   "outputs": [],
   "source": [
    "# A function to return a tuple of the marriage and divorce years.\n",
    "# Then the odd ones are marriages and the even ones are divorces!\n",
    "\n",
    "def MarDivList_fromstring(ss,whichone):\n",
    "    # I'm really looking for either 2-digit or 4-digit numerical sequences\n",
    "    years = []\n",
    "    i=0\n",
    "    while i in range(0,len(ss)-1):\n",
    "        if ss[i:i+2].isnumeric():\n",
    "            if ss[i:i+4].isnumeric():\n",
    "                years.append(int(ss[i:i+4]))\n",
    "                i=i+4\n",
    "            else:\n",
    "                years.append(1900+int(ss[i:i+2]))\n",
    "                i=i+2\n",
    "        i=i+1\n",
    "    while len(years)<8:\n",
    "        years.append(0)\n",
    "    return(years[whichone])\n",
    "\n",
    "\n",
    "def MarDivList_fromindex(index,whichone):\n",
    "    # Spouse String\n",
    "    ss = df3.iloc[index,2]\n",
    "    return(MarDivList_fromstring(ss,whichone))"
   ]
  },
  {
   "cell_type": "code",
   "execution_count": 33,
   "metadata": {},
   "outputs": [],
   "source": [
    "# Add all the marriage & divorce columns\n",
    "\n",
    "df3['First Marriage']=(df3.index.map(lambda x:MarDivList(x,0)))\n",
    "df3['First Divorce']=(df3.index.map(lambda x:MarDivList(x,1)))\n",
    "df3['Second Marriage']=(df3.index.map(lambda x:MarDivList(x,2)))\n",
    "df3['Second Divorce']=(df3.index.map(lambda x:MarDivList(x,3)))\n",
    "df3['Third Marriage']=(df3.index.map(lambda x:MarDivList(x,4)))\n",
    "df3['Third Divorce']=(df3.index.map(lambda x:MarDivList(x,5)))\n",
    "\n",
    "df3['Fourth Marriage']=(df3.index.map(lambda x:MarDivList(x,6)))\n",
    "df3['Fourth Divorce']=(df3.index.map(lambda x:MarDivList(x,7)))\n",
    "\n",
    "# And then lost the string about the spouses\n",
    "df3=df3.drop('Spouses String',axis=1)"
   ]
  },
  {
   "cell_type": "code",
   "execution_count": 34,
   "metadata": {},
   "outputs": [
    {
     "data": {
      "text/html": [
       "<div>\n",
       "<style scoped>\n",
       "    .dataframe tbody tr th:only-of-type {\n",
       "        vertical-align: middle;\n",
       "    }\n",
       "\n",
       "    .dataframe tbody tr th {\n",
       "        vertical-align: top;\n",
       "    }\n",
       "\n",
       "    .dataframe thead th {\n",
       "        text-align: right;\n",
       "    }\n",
       "</style>\n",
       "<table border=\"1\" class=\"dataframe\">\n",
       "  <thead>\n",
       "    <tr style=\"text-align: right;\">\n",
       "      <th></th>\n",
       "      <th>Name</th>\n",
       "      <th>Competing Year</th>\n",
       "      <th>First Marriage</th>\n",
       "      <th>First Divorce</th>\n",
       "      <th>Second Marriage</th>\n",
       "      <th>Second Divorce</th>\n",
       "      <th>Third Marriage</th>\n",
       "      <th>Third Divorce</th>\n",
       "      <th>Fourth Marriage</th>\n",
       "      <th>Fourth Divorce</th>\n",
       "    </tr>\n",
       "  </thead>\n",
       "  <tbody>\n",
       "    <tr>\n",
       "      <th>88</th>\n",
       "      <td>Kate Silverton</td>\n",
       "      <td>2018</td>\n",
       "      <td>2010</td>\n",
       "      <td>0</td>\n",
       "      <td>0</td>\n",
       "      <td>0</td>\n",
       "      <td>0</td>\n",
       "      <td>0</td>\n",
       "      <td>0</td>\n",
       "      <td>0</td>\n",
       "    </tr>\n",
       "    <tr>\n",
       "      <th>89</th>\n",
       "      <td>Catherine Tyldesley</td>\n",
       "      <td>2019</td>\n",
       "      <td>2016</td>\n",
       "      <td>0</td>\n",
       "      <td>0</td>\n",
       "      <td>0</td>\n",
       "      <td>0</td>\n",
       "      <td>0</td>\n",
       "      <td>0</td>\n",
       "      <td>0</td>\n",
       "    </tr>\n",
       "    <tr>\n",
       "      <th>90</th>\n",
       "      <td>Mike Bushell</td>\n",
       "      <td>2019</td>\n",
       "      <td>2019</td>\n",
       "      <td>0</td>\n",
       "      <td>0</td>\n",
       "      <td>0</td>\n",
       "      <td>0</td>\n",
       "      <td>0</td>\n",
       "      <td>0</td>\n",
       "      <td>0</td>\n",
       "    </tr>\n",
       "    <tr>\n",
       "      <th>91</th>\n",
       "      <td>Michelle Visage</td>\n",
       "      <td>2019</td>\n",
       "      <td>0</td>\n",
       "      <td>0</td>\n",
       "      <td>0</td>\n",
       "      <td>0</td>\n",
       "      <td>0</td>\n",
       "      <td>0</td>\n",
       "      <td>0</td>\n",
       "      <td>0</td>\n",
       "    </tr>\n",
       "    <tr>\n",
       "      <th>92</th>\n",
       "      <td>Kelvin Fletcher</td>\n",
       "      <td>2019</td>\n",
       "      <td>2015</td>\n",
       "      <td>0</td>\n",
       "      <td>0</td>\n",
       "      <td>0</td>\n",
       "      <td>0</td>\n",
       "      <td>0</td>\n",
       "      <td>0</td>\n",
       "      <td>0</td>\n",
       "    </tr>\n",
       "  </tbody>\n",
       "</table>\n",
       "</div>"
      ],
      "text/plain": [
       "                   Name  Competing Year  First Marriage  First Divorce  \\\n",
       "88       Kate Silverton            2018            2010              0   \n",
       "89  Catherine Tyldesley            2019            2016              0   \n",
       "90         Mike Bushell            2019            2019              0   \n",
       "91      Michelle Visage            2019               0              0   \n",
       "92      Kelvin Fletcher            2019            2015              0   \n",
       "\n",
       "    Second Marriage  Second Divorce  Third Marriage  Third Divorce  \\\n",
       "88                0               0               0              0   \n",
       "89                0               0               0              0   \n",
       "90                0               0               0              0   \n",
       "91                0               0               0              0   \n",
       "92                0               0               0              0   \n",
       "\n",
       "    Fourth Marriage  Fourth Divorce  \n",
       "88                0               0  \n",
       "89                0               0  \n",
       "90                0               0  \n",
       "91                0               0  \n",
       "92                0               0  "
      ]
     },
     "execution_count": 34,
     "metadata": {},
     "output_type": "execute_result"
    }
   ],
   "source": [
    "df3.tail()"
   ]
  },
  {
   "cell_type": "markdown",
   "metadata": {},
   "source": [
    "## Section 4: Dropping the people outside of our time ranges\n",
    "I don't need the information about people who were already divorced, or weren't yet married at the time of their competition - so get rid!"
   ]
  },
  {
   "cell_type": "code",
   "execution_count": 35,
   "metadata": {},
   "outputs": [],
   "source": [
    "df4=df3.copy()"
   ]
  },
  {
   "cell_type": "code",
   "execution_count": 36,
   "metadata": {},
   "outputs": [],
   "source": [
    "def MarriedAtTheTime(start,end,comp):\n",
    "    if ((comp>=start and comp<=end)or(start != 0 and comp>=start and end==0)):\n",
    "        return(1)\n",
    "    else: return(0)\n",
    "    \n",
    "def WithinXYears(div,comp,x):\n",
    "    if (div != 0 and div-comp <=x and comp<=div):\n",
    "        return(1)\n",
    "    else: return (0)"
   ]
  },
  {
   "cell_type": "code",
   "execution_count": 37,
   "metadata": {},
   "outputs": [],
   "source": [
    "df4['Married at the Time']= \\\n",
    "    df4.apply(lambda x: MarriedAtTheTime(x['First Marriage'], x['First Divorce'],x['Competing Year']), axis=1) \\\n",
    "    + df4.apply(lambda x: MarriedAtTheTime(x['Second Marriage'], x['Second Divorce'],x['Competing Year']), axis=1)\\\n",
    "    + df4.apply(lambda x: MarriedAtTheTime(x['Third Marriage'], x['Third Divorce'],x['Competing Year']), axis=1)\\\n",
    "    + df4.apply(lambda x: MarriedAtTheTime(x['Fourth Marriage'], x['Fourth Divorce'],x['Competing Year']), axis=1)"
   ]
  },
  {
   "cell_type": "code",
   "execution_count": 38,
   "metadata": {},
   "outputs": [],
   "source": [
    "df4['Within 1 Year']= \\\n",
    "    df4.apply(lambda x: WithinXYears(x['First Divorce'], x['Competing Year'],1), axis=1) \\\n",
    "    + df4.apply(lambda x: WithinXYears(x['Second Divorce'], x['Competing Year'],1), axis=1) \\\n",
    "    + df4.apply(lambda x: WithinXYears(x['Third Divorce'], x['Competing Year'],1), axis=1) \\\n",
    "    + df4.apply(lambda x: WithinXYears(x['Fourth Divorce'], x['Competing Year'],1), axis=1) \\\n",
    "\n",
    "df4['Within 2 Years']= \\\n",
    "    df4.apply(lambda x: WithinXYears(x['First Divorce'], x['Competing Year'],2), axis=1) \\\n",
    "    + df4.apply(lambda x: WithinXYears(x['Second Divorce'], x['Competing Year'],2), axis=1) \\\n",
    "    + df4.apply(lambda x: WithinXYears(x['Third Divorce'], x['Competing Year'],2), axis=1) \\\n",
    "    + df4.apply(lambda x: WithinXYears(x['Fourth Divorce'], x['Competing Year'],2), axis=1) \\\n",
    "\n",
    "df4['Within 3 Years']= \\\n",
    "    df4.apply(lambda x: WithinXYears(x['First Divorce'], x['Competing Year'],3), axis=1) \\\n",
    "    + df4.apply(lambda x: WithinXYears(x['Second Divorce'], x['Competing Year'],3), axis=1) \\\n",
    "    + df4.apply(lambda x: WithinXYears(x['Third Divorce'], x['Competing Year'],3), axis=1) \\\n",
    "    + df4.apply(lambda x: WithinXYears(x['Fourth Divorce'], x['Competing Year'],3), axis=1) \\"
   ]
  },
  {
   "cell_type": "code",
   "execution_count": 39,
   "metadata": {
    "scrolled": false
   },
   "outputs": [
    {
     "data": {
      "text/html": [
       "<div>\n",
       "<style scoped>\n",
       "    .dataframe tbody tr th:only-of-type {\n",
       "        vertical-align: middle;\n",
       "    }\n",
       "\n",
       "    .dataframe tbody tr th {\n",
       "        vertical-align: top;\n",
       "    }\n",
       "\n",
       "    .dataframe thead th {\n",
       "        text-align: right;\n",
       "    }\n",
       "</style>\n",
       "<table border=\"1\" class=\"dataframe\">\n",
       "  <thead>\n",
       "    <tr style=\"text-align: right;\">\n",
       "      <th></th>\n",
       "      <th>Competing Year</th>\n",
       "      <th>First Marriage</th>\n",
       "      <th>First Divorce</th>\n",
       "      <th>Second Marriage</th>\n",
       "      <th>Second Divorce</th>\n",
       "      <th>Third Marriage</th>\n",
       "      <th>Third Divorce</th>\n",
       "      <th>Fourth Marriage</th>\n",
       "      <th>Fourth Divorce</th>\n",
       "      <th>Married at the Time</th>\n",
       "      <th>Within 1 Year</th>\n",
       "      <th>Within 2 Years</th>\n",
       "      <th>Within 3 Years</th>\n",
       "    </tr>\n",
       "  </thead>\n",
       "  <tbody>\n",
       "    <tr>\n",
       "      <th>count</th>\n",
       "      <td>57.000000</td>\n",
       "      <td>57.000000</td>\n",
       "      <td>57.000000</td>\n",
       "      <td>57.000000</td>\n",
       "      <td>57.000000</td>\n",
       "      <td>57.000000</td>\n",
       "      <td>57.000000</td>\n",
       "      <td>57.000000</td>\n",
       "      <td>57.000000</td>\n",
       "      <td>57.0</td>\n",
       "      <td>57.000000</td>\n",
       "      <td>57.000000</td>\n",
       "      <td>57.000000</td>\n",
       "    </tr>\n",
       "    <tr>\n",
       "      <th>mean</th>\n",
       "      <td>2011.175439</td>\n",
       "      <td>1997.964912</td>\n",
       "      <td>807.473684</td>\n",
       "      <td>526.157895</td>\n",
       "      <td>70.035088</td>\n",
       "      <td>70.263158</td>\n",
       "      <td>70.421053</td>\n",
       "      <td>35.245614</td>\n",
       "      <td>35.263158</td>\n",
       "      <td>1.0</td>\n",
       "      <td>0.140351</td>\n",
       "      <td>0.140351</td>\n",
       "      <td>0.140351</td>\n",
       "    </tr>\n",
       "    <tr>\n",
       "      <th>std</th>\n",
       "      <td>4.480604</td>\n",
       "      <td>14.402337</td>\n",
       "      <td>990.524701</td>\n",
       "      <td>888.277522</td>\n",
       "      <td>370.531759</td>\n",
       "      <td>371.739854</td>\n",
       "      <td>372.576116</td>\n",
       "      <td>266.098551</td>\n",
       "      <td>266.231004</td>\n",
       "      <td>0.0</td>\n",
       "      <td>0.350438</td>\n",
       "      <td>0.350438</td>\n",
       "      <td>0.350438</td>\n",
       "    </tr>\n",
       "    <tr>\n",
       "      <th>min</th>\n",
       "      <td>2004.000000</td>\n",
       "      <td>1959.000000</td>\n",
       "      <td>0.000000</td>\n",
       "      <td>0.000000</td>\n",
       "      <td>0.000000</td>\n",
       "      <td>0.000000</td>\n",
       "      <td>0.000000</td>\n",
       "      <td>0.000000</td>\n",
       "      <td>0.000000</td>\n",
       "      <td>1.0</td>\n",
       "      <td>0.000000</td>\n",
       "      <td>0.000000</td>\n",
       "      <td>0.000000</td>\n",
       "    </tr>\n",
       "    <tr>\n",
       "      <th>25%</th>\n",
       "      <td>2007.000000</td>\n",
       "      <td>1989.000000</td>\n",
       "      <td>0.000000</td>\n",
       "      <td>0.000000</td>\n",
       "      <td>0.000000</td>\n",
       "      <td>0.000000</td>\n",
       "      <td>0.000000</td>\n",
       "      <td>0.000000</td>\n",
       "      <td>0.000000</td>\n",
       "      <td>1.0</td>\n",
       "      <td>0.000000</td>\n",
       "      <td>0.000000</td>\n",
       "      <td>0.000000</td>\n",
       "    </tr>\n",
       "    <tr>\n",
       "      <th>50%</th>\n",
       "      <td>2011.000000</td>\n",
       "      <td>2001.000000</td>\n",
       "      <td>0.000000</td>\n",
       "      <td>0.000000</td>\n",
       "      <td>0.000000</td>\n",
       "      <td>0.000000</td>\n",
       "      <td>0.000000</td>\n",
       "      <td>0.000000</td>\n",
       "      <td>0.000000</td>\n",
       "      <td>1.0</td>\n",
       "      <td>0.000000</td>\n",
       "      <td>0.000000</td>\n",
       "      <td>0.000000</td>\n",
       "    </tr>\n",
       "    <tr>\n",
       "      <th>75%</th>\n",
       "      <td>2015.000000</td>\n",
       "      <td>2008.000000</td>\n",
       "      <td>2000.000000</td>\n",
       "      <td>1976.000000</td>\n",
       "      <td>0.000000</td>\n",
       "      <td>0.000000</td>\n",
       "      <td>0.000000</td>\n",
       "      <td>0.000000</td>\n",
       "      <td>0.000000</td>\n",
       "      <td>1.0</td>\n",
       "      <td>0.000000</td>\n",
       "      <td>0.000000</td>\n",
       "      <td>0.000000</td>\n",
       "    </tr>\n",
       "    <tr>\n",
       "      <th>max</th>\n",
       "      <td>2019.000000</td>\n",
       "      <td>2019.000000</td>\n",
       "      <td>2017.000000</td>\n",
       "      <td>2019.000000</td>\n",
       "      <td>1996.000000</td>\n",
       "      <td>2008.000000</td>\n",
       "      <td>2014.000000</td>\n",
       "      <td>2009.000000</td>\n",
       "      <td>2010.000000</td>\n",
       "      <td>1.0</td>\n",
       "      <td>1.000000</td>\n",
       "      <td>1.000000</td>\n",
       "      <td>1.000000</td>\n",
       "    </tr>\n",
       "  </tbody>\n",
       "</table>\n",
       "</div>"
      ],
      "text/plain": [
       "       Competing Year  First Marriage  First Divorce  Second Marriage  \\\n",
       "count       57.000000       57.000000      57.000000        57.000000   \n",
       "mean      2011.175439     1997.964912     807.473684       526.157895   \n",
       "std          4.480604       14.402337     990.524701       888.277522   \n",
       "min       2004.000000     1959.000000       0.000000         0.000000   \n",
       "25%       2007.000000     1989.000000       0.000000         0.000000   \n",
       "50%       2011.000000     2001.000000       0.000000         0.000000   \n",
       "75%       2015.000000     2008.000000    2000.000000      1976.000000   \n",
       "max       2019.000000     2019.000000    2017.000000      2019.000000   \n",
       "\n",
       "       Second Divorce  Third Marriage  Third Divorce  Fourth Marriage  \\\n",
       "count       57.000000       57.000000      57.000000        57.000000   \n",
       "mean        70.035088       70.263158      70.421053        35.245614   \n",
       "std        370.531759      371.739854     372.576116       266.098551   \n",
       "min          0.000000        0.000000       0.000000         0.000000   \n",
       "25%          0.000000        0.000000       0.000000         0.000000   \n",
       "50%          0.000000        0.000000       0.000000         0.000000   \n",
       "75%          0.000000        0.000000       0.000000         0.000000   \n",
       "max       1996.000000     2008.000000    2014.000000      2009.000000   \n",
       "\n",
       "       Fourth Divorce  Married at the Time  Within 1 Year  Within 2 Years  \\\n",
       "count       57.000000                 57.0      57.000000       57.000000   \n",
       "mean        35.263158                  1.0       0.140351        0.140351   \n",
       "std        266.231004                  0.0       0.350438        0.350438   \n",
       "min          0.000000                  1.0       0.000000        0.000000   \n",
       "25%          0.000000                  1.0       0.000000        0.000000   \n",
       "50%          0.000000                  1.0       0.000000        0.000000   \n",
       "75%          0.000000                  1.0       0.000000        0.000000   \n",
       "max       2010.000000                  1.0       1.000000        1.000000   \n",
       "\n",
       "       Within 3 Years  \n",
       "count       57.000000  \n",
       "mean         0.140351  \n",
       "std          0.350438  \n",
       "min          0.000000  \n",
       "25%          0.000000  \n",
       "50%          0.000000  \n",
       "75%          0.000000  \n",
       "max          1.000000  "
      ]
     },
     "execution_count": 39,
     "metadata": {},
     "output_type": "execute_result"
    }
   ],
   "source": [
    "# 141 were married at the time of competing! A much better sample size!\n",
    "\n",
    "testingdf = df4[df4['Married at the Time']==1]\n",
    "testingdf.describe()"
   ]
  },
  {
   "cell_type": "code",
   "execution_count": 40,
   "metadata": {},
   "outputs": [
    {
     "data": {
      "text/plain": [
       "(8, 14)"
      ]
     },
     "execution_count": 40,
     "metadata": {},
     "output_type": "execute_result"
    }
   ],
   "source": [
    "df4[df4['Within 1 Year']!=0].shape"
   ]
  },
  {
   "cell_type": "markdown",
   "metadata": {},
   "source": [
    "## Section 6: Getting figures"
   ]
  },
  {
   "cell_type": "markdown",
   "metadata": {},
   "source": [
    "\"In England and Wales in 2017, only 8.4 per 1,000 opposite-sex couples got divorced.\"*\n",
    "I'm going to use this figure for now because I can't see any better ones for more recent years.\n",
    "\n",
    "*https://www.theguardian.com/lifeandstyle/2018/dec/09/in-it-for-the-long-haul-why-divorce-rates-are-falling-fast"
   ]
  },
  {
   "cell_type": "code",
   "execution_count": 41,
   "metadata": {},
   "outputs": [],
   "source": [
    "# Divorce rate in England and Wales on average\n",
    "ew_rate = 8.4/1000\n",
    "ew_percent=str(round(ew_rate*100,2))+\"%\""
   ]
  },
  {
   "cell_type": "code",
   "execution_count": 42,
   "metadata": {},
   "outputs": [],
   "source": [
    "# Divorce rate among married-at-the-time Strictly contestants\n",
    "\n",
    "sample_size = df4['Married at the Time'].sum()\n",
    "sample_divorces = df4['Within 1 Year'].sum()\n",
    "\n",
    "scd_rate = sample_divorces/sample_size\n",
    "scd_percent=str(round(scd_rate*100,2))+\"%\""
   ]
  },
  {
   "cell_type": "code",
   "execution_count": 43,
   "metadata": {},
   "outputs": [
    {
     "name": "stdout",
     "output_type": "stream",
     "text": [
      "England and Wales divorce percentage in a year: 0.84%\n",
      "SCD divorce percentage in a year: 14.04%\n"
     ]
    }
   ],
   "source": [
    "print(\"England and Wales divorce percentage in a year: \" + ew_percent)\n",
    "print(\"SCD divorce percentage in a year: \" + scd_percent)"
   ]
  },
  {
   "cell_type": "code",
   "execution_count": 44,
   "metadata": {},
   "outputs": [
    {
     "name": "stdout",
     "output_type": "stream",
     "text": [
      "Number of times higher Strictly is than normal people: 16.71\n"
     ]
    }
   ],
   "source": [
    "print(\"Number of times higher Strictly is than normal people: \" + str(round(scd_rate/ew_rate,2)))"
   ]
  },
  {
   "cell_type": "markdown",
   "metadata": {},
   "source": [
    "## Statistical Significant Test"
   ]
  },
  {
   "cell_type": "markdown",
   "metadata": {},
   "source": [
    "I'm going for a 1-sample test (classic) just to test whether the sample we've picked could possibly have come from a population with a mean of 0.84%, as the ONS published. To be honest, I suspect I haven't got enough datapoints to make them statistically significant."
   ]
  },
  {
   "cell_type": "markdown",
   "metadata": {},
   "source": [
    "<em> H0: Strictly contestants have a divorce rate of 0.84% each year\n",
    "<br> H1: Strictly contestants have a higher divorce rate than 0.84% each year"
   ]
  },
  {
   "cell_type": "markdown",
   "metadata": {},
   "source": [
    " PROB(8 or more divorces in 57 happen with a 0.84% rate)\n",
    " = 1 - PROB(7 or fewer happen)"
   ]
  },
  {
   "cell_type": "code",
   "execution_count": 45,
   "metadata": {},
   "outputs": [],
   "source": [
    "def nCr(n, r): \n",
    "    return (fact(n) / (fact(r)  \n",
    "                * fact(n - r))) \n",
    "  \n",
    "# Returns factorial of n \n",
    "def fact(n): \n",
    "    res = 1\n",
    "    for i in range(2, n+1): \n",
    "        res = res * i \n",
    "    return res "
   ]
  },
  {
   "cell_type": "code",
   "execution_count": 46,
   "metadata": {},
   "outputs": [
    {
     "name": "stdout",
     "output_type": "stream",
     "text": [
      "PROB(8 or more divorces)= 2.83942613033504e-06%\n"
     ]
    }
   ],
   "source": [
    "# Calculate the probability of 14 or fewer divorces happening\n",
    "\n",
    "cum_prob = 1\n",
    "for i in range(0,sample_divorces):\n",
    "    this_prob = pow(ew_rate,i)*pow(1-ew_rate,sample_size-i)*nCr(sample_size,i)\n",
    "    # print('prob of '+str(i)+' divorces: '+str(this_prob))\n",
    "    cum_prob = cum_prob - this_prob\n",
    "    \n",
    "print('PROB(8 or more divorces)= '+str(cum_prob*100)+'%')"
   ]
  },
  {
   "cell_type": "markdown",
   "metadata": {},
   "source": [
    "2.84e-08 is waaay lower than even a 1% significance boundary, so it's definitely statistically significant:"
   ]
  },
  {
   "cell_type": "markdown",
   "metadata": {},
   "source": [
    "<b> Reject H0 - the mean divorce rate is definitely higher than the English average!"
   ]
  },
  {
   "cell_type": "markdown",
   "metadata": {},
   "source": [
    "## Finding a Better Mean"
   ]
  },
  {
   "cell_type": "markdown",
   "metadata": {},
   "source": [
    "I think it's a bit unfair to compare celebrity divorce rates to normal-people divorce rates, so I really want to get a rate for celebrities who may or may not have been on Strictly.\n",
    "\n",
    "https://yougov.co.uk/ratings/entertainment/fame/people/all has a list of the most famous people in the UK. I'm going to scrape the marriage statuses of this lot, and see if that gives a different number."
   ]
  },
  {
   "cell_type": "code",
   "execution_count": 83,
   "metadata": {},
   "outputs": [],
   "source": [
    "# Set up my list of celebrities, and get their spouses\n",
    "\n",
    "celeb_list = pd.read_csv('FamousList.csv',header=None)\n",
    "celeb_list = celeb_list.rename(columns = {0:'Name'})\n",
    "celeb_list['Spouses String']=(celeb_list['Name'].map(lambda x:GetMarriageStatus_fromname(x)))\n",
    "celeb_list = celeb_list[celeb_list['Spouses String']!=0]\n",
    "\n",
    "celeb_list['First Marriage']=(celeb_list['Spouses String'].map(lambda x:MarDivList_fromstring(x,0)))\n",
    "celeb_list['First Divorce']=(celeb_list['Spouses String'].map(lambda x:MarDivList_fromstring(x,1)))\n",
    "celeb_list['Second Marriage']=(celeb_list['Spouses String'].map(lambda x:MarDivList_fromstring(x,2)))\n",
    "celeb_list['Second Divorce']=(celeb_list['Spouses String'].map(lambda x:MarDivList_fromstring(x,3)))\n",
    "celeb_list['Third Marriage']=(celeb_list['Spouses String'].map(lambda x:MarDivList_fromstring(x,4)))\n",
    "celeb_list['Third Divorce']=(celeb_list['Spouses String'].map(lambda x:MarDivList_fromstring(x,5)))\n",
    "celeb_list['Fourth Marriage']=(celeb_list['Spouses String'].map(lambda x:MarDivList_fromstring(x,6)))\n",
    "celeb_list['Fourth Divorce']=(celeb_list['Spouses String'].map(lambda x:MarDivList_fromstring(x,7)))"
   ]
  },
  {
   "cell_type": "code",
   "execution_count": 88,
   "metadata": {},
   "outputs": [],
   "source": [
    "def DivorcedThisYear(DivOne,DivTwo,DivThree,DivFour,year):\n",
    "    if (DivOne == year or DivTwo == year or DivThree == year or DivFour == year): \n",
    "        return(1)\n",
    "    else: return(0)"
   ]
  },
  {
   "cell_type": "code",
   "execution_count": 106,
   "metadata": {},
   "outputs": [
    {
     "name": "stdout",
     "output_type": "stream",
     "text": [
      "The celebrity divorce rate in a year is: 0.04859266735022459\n"
     ]
    }
   ],
   "source": [
    "# To work out how many people were married (and divorced) in each year\n",
    "\n",
    "for year in range(1980,2019):\n",
    "    celeb_list['married in '+str(year)]=celeb_list.apply(lambda x: MarriedAtTheTime(x['First Marriage'], x['First Divorce'],year), axis=1)\\\n",
    "    +celeb_list.apply(lambda x: MarriedAtTheTime(x['Second Marriage'], x['Second Divorce'],year), axis=1)\\\n",
    "    +celeb_list.apply(lambda x: MarriedAtTheTime(x['Third Marriage'], x['Third Divorce'],year), axis=1)\\\n",
    "    +celeb_list.apply(lambda x: MarriedAtTheTime(x['Fourth Marriage'], x['Fourth Divorce'],year), axis=1)\n",
    "    celeb_list['divorced in '+str(year)]=celeb_list.apply(lambda x:DivorcedThisYear(x['First Divorce'],x['Second Divorce'],x['Third Divorce'],x['Fourth Divorce'],year),axis=1)\n",
    "    \n",
    "yearlydivrates=[]\n",
    "\n",
    "for year in range(1980,2019):\n",
    "    thisyeardivrate = celeb_list['divorced in '+str(year)].sum()/celeb_list['married in '+str(year)].sum()\n",
    "    yearlydivrates.append(thisyeardivrate)\n",
    "    \n",
    "# The divorce rate (in an average year) for celebrities is....\n",
    "celeb_rate = sum(yearlydivrates)/len(yearlydivrates)\n",
    "print('The celebrity divorce rate in a year is: '+str(celeb_rate))"
   ]
  },
  {
   "cell_type": "markdown",
   "metadata": {},
   "source": [
    "## (Hopefully) Slightly Better Significance Test"
   ]
  },
  {
   "cell_type": "markdown",
   "metadata": {},
   "source": [
    "<em> H0: Strictly contestants have a divorce rate of 4.8% each year <br>\n",
    "H1: Strictly contestants have a higher divorce rate than 4.8% each year "
   ]
  },
  {
   "cell_type": "code",
   "execution_count": 108,
   "metadata": {},
   "outputs": [
    {
     "name": "stdout",
     "output_type": "stream",
     "text": [
      "PROB(8 or more divorces)= 0.610466797859054%\n"
     ]
    }
   ],
   "source": [
    "# Calculate the probability of 14 or fewer divorces happening\n",
    "\n",
    "cum_prob = 1\n",
    "for i in range(0,sample_divorces):\n",
    "    this_prob = pow(celeb_rate,i)*pow(1-celeb_rate,sample_size-i)*nCr(sample_size,i)\n",
    "    # print('prob of '+str(i)+' divorces: '+str(this_prob))\n",
    "    cum_prob = cum_prob - this_prob\n",
    "    \n",
    "print('PROB(8 or more divorces)= '+str(cum_prob*100)+'%')"
   ]
  },
  {
   "cell_type": "markdown",
   "metadata": {},
   "source": [
    "Which is STILL way under the 1% significance level, so it's significant!!"
   ]
  },
  {
   "cell_type": "markdown",
   "metadata": {},
   "source": [
    "# CONCLUSION: There IS a true Strictly Curse!"
   ]
  }
 ],
 "metadata": {
  "kernelspec": {
   "display_name": "Python 3",
   "language": "python",
   "name": "python3"
  },
  "language_info": {
   "codemirror_mode": {
    "name": "ipython",
    "version": 3
   },
   "file_extension": ".py",
   "mimetype": "text/x-python",
   "name": "python",
   "nbconvert_exporter": "python",
   "pygments_lexer": "ipython3",
   "version": "3.7.0"
  }
 },
 "nbformat": 4,
 "nbformat_minor": 2
}
